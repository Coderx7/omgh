{
 "metadata": {
  "name": "",
  "signature": "sha256:aa5688c93c2b797952a0dd8343d4b2ab44e3c6dfe62cc42ae30d463d6e0cff53"
 },
 "nbformat": 3,
 "nbformat_minor": 0,
 "worksheets": [
  {
   "cells": [
    {
     "cell_type": "code",
     "collapsed": false,
     "input": [
      "import re\n",
      "import numpy as np\n",
      "from matplotlib import pylab as plt\n",
      "%matplotlib inline"
     ],
     "language": "python",
     "metadata": {},
     "outputs": [],
     "prompt_number": 102
    },
    {
     "cell_type": "code",
     "collapsed": false,
     "input": [
      "log_file = open('/home/ipl/Desktop/fine_tune_cub_test.txt', 'r')\n",
      "log = log_file.read()"
     ],
     "language": "python",
     "metadata": {},
     "outputs": [],
     "prompt_number": 2
    },
    {
     "cell_type": "code",
     "collapsed": false,
     "input": [
      "log.split('\\n')[5110:5120]"
     ],
     "language": "python",
     "metadata": {},
     "outputs": [
      {
       "metadata": {},
       "output_type": "pyout",
       "prompt_number": 129,
       "text": [
        "['I1130 17:20:31.726660  2926 solver.cpp:317] Snapshotting to models/finetune_cub/finetune_cub_iter_40000.caffemodel',\n",
        " 'I1130 17:20:32.069056  2926 solver.cpp:324] Snapshotting solver state to models/finetune_cub/finetune_cub_iter_40000.solverstate',\n",
        " 'I1130 17:20:32.260188  2926 solver.cpp:247] Iteration 40000, Testing net (#0)',\n",
        " 'I1130 17:20:46.263460  2926 solver.cpp:298]     Test net output #0: accuracy = 0.5346',\n",
        " 'I1130 17:20:46.397557  2926 solver.cpp:191] Iteration 40000, loss = 0.0078999',\n",
        " 'I1130 17:20:46.397593  2926 solver.cpp:403] Iteration 40000, lr = 1e-06',\n",
        " 'I1130 17:20:54.388350  2926 solver.cpp:191] Iteration 40020, loss = 0.0305099',\n",
        " 'I1130 17:20:54.388383  2926 solver.cpp:403] Iteration 40020, lr = 1e-06',\n",
        " 'I1130 17:21:02.419848  2926 solver.cpp:191] Iteration 40040, loss = 0.0267328',\n",
        " 'I1130 17:21:02.419896  2926 solver.cpp:403] Iteration 40040, lr = 1e-06']"
       ]
      }
     ],
     "prompt_number": 129
    },
    {
     "cell_type": "code",
     "collapsed": false,
     "input": [
      "float_regex = r'[+-]?(\\d+(\\.\\d*)?|\\.\\d+)([eE][+-]?\\d+)?'\n",
      "pattern = r\"Iteration (?P<iter_num>\\d+), Testing net \\(#0\\)\\n.* accuracy = (?P<accuracy>[+-]?(\\d+(\\.\\d*)?|\\.\\d+)([eE][+-]?\\d+)?)\""
     ],
     "language": "python",
     "metadata": {},
     "outputs": [],
     "prompt_number": 187
    },
    {
     "cell_type": "code",
     "collapsed": false,
     "input": [
      "res = re.findall(pattern, log)"
     ],
     "language": "python",
     "metadata": {},
     "outputs": [],
     "prompt_number": 188
    },
    {
     "cell_type": "code",
     "collapsed": false,
     "input": [
      "res"
     ],
     "language": "python",
     "metadata": {},
     "outputs": [
      {
       "metadata": {},
       "output_type": "pyout",
       "prompt_number": 189,
       "text": [
        "[('0', '0.0054', '0.0054', '.0054', ''),\n",
        " ('1000', '0.225', '0.225', '.225', ''),\n",
        " ('2000', '0.251', '0.251', '.251', ''),\n",
        " ('3000', '0.3704', '0.3704', '.3704', ''),\n",
        " ('4000', '0.3296', '0.3296', '.3296', ''),\n",
        " ('5000', '0.4794', '0.4794', '.4794', ''),\n",
        " ('6000', '0.5176', '0.5176', '.5176', ''),\n",
        " ('7000', '0.5174', '0.5174', '.5174', ''),\n",
        " ('8000', '0.5382', '0.5382', '.5382', ''),\n",
        " ('9000', '0.5392', '0.5392', '.5392', ''),\n",
        " ('10000', '0.5492', '0.5492', '.5492', ''),\n",
        " ('11000', '0.518', '0.518', '.518', ''),\n",
        " ('12000', '0.5342', '0.5342', '.5342', ''),\n",
        " ('13000', '0.5428', '0.5428', '.5428', ''),\n",
        " ('14000', '0.5266', '0.5266', '.5266', ''),\n",
        " ('15000', '0.536', '0.536', '.536', ''),\n",
        " ('16000', '0.5456', '0.5456', '.5456', ''),\n",
        " ('17000', '0.5584', '0.5584', '.5584', ''),\n",
        " ('18000', '0.5318', '0.5318', '.5318', ''),\n",
        " ('19000', '0.5394', '0.5394', '.5394', ''),\n",
        " ('20000', '0.5408', '0.5408', '.5408', ''),\n",
        " ('21000', '0.5334', '0.5334', '.5334', ''),\n",
        " ('22000', '0.5454', '0.5454', '.5454', ''),\n",
        " ('23000', '0.5494', '0.5494', '.5494', ''),\n",
        " ('24000', '0.5566', '0.5566', '.5566', ''),\n",
        " ('25000', '0.5476', '0.5476', '.5476', ''),\n",
        " ('26000', '0.5314', '0.5314', '.5314', ''),\n",
        " ('27000', '0.5458', '0.5458', '.5458', ''),\n",
        " ('28000', '0.5474', '0.5474', '.5474', ''),\n",
        " ('29000', '0.5434', '0.5434', '.5434', ''),\n",
        " ('30000', '0.5478', '0.5478', '.5478', ''),\n",
        " ('31000', '0.5558', '0.5558', '.5558', ''),\n",
        " ('32000', '0.5654', '0.5654', '.5654', ''),\n",
        " ('33000', '0.5348', '0.5348', '.5348', ''),\n",
        " ('34000', '0.5338', '0.5338', '.5338', ''),\n",
        " ('35000', '0.5544', '0.5544', '.5544', ''),\n",
        " ('36000', '0.5358', '0.5358', '.5358', ''),\n",
        " ('37000', '0.5518', '0.5518', '.5518', ''),\n",
        " ('38000', '0.5502', '0.5502', '.5502', ''),\n",
        " ('39000', '0.5648', '0.5648', '.5648', ''),\n",
        " ('40000', '0.5346', '0.5346', '.5346', ''),\n",
        " ('41000', '0.5394', '0.5394', '.5394', ''),\n",
        " ('42000', '0.553', '0.553', '.553', ''),\n",
        " ('43000', '0.5362', '0.5362', '.5362', ''),\n",
        " ('44000', '0.5464', '0.5464', '.5464', ''),\n",
        " ('45000', '0.5528', '0.5528', '.5528', ''),\n",
        " ('46000', '0.5664', '0.5664', '.5664', ''),\n",
        " ('47000', '0.542', '0.542', '.542', ''),\n",
        " ('48000', '0.5384', '0.5384', '.5384', ''),\n",
        " ('49000', '0.539', '0.539', '.539', ''),\n",
        " ('50000', '0.548', '0.548', '.548', ''),\n",
        " ('51000', '0.537', '0.537', '.537', ''),\n",
        " ('52000', '0.5598', '0.5598', '.5598', ''),\n",
        " ('53000', '0.5598', '0.5598', '.5598', ''),\n",
        " ('54000', '0.5598', '0.5598', '.5598', ''),\n",
        " ('55000', '0.531', '0.531', '.531', ''),\n",
        " ('56000', '0.5414', '0.5414', '.5414', ''),\n",
        " ('57000', '0.558', '0.558', '.558', ''),\n",
        " ('58000', '0.537', '0.537', '.537', ''),\n",
        " ('59000', '0.5538', '0.5538', '.5538', ''),\n",
        " ('60000', '0.5576', '0.5576', '.5576', ''),\n",
        " ('61000', '0.5616', '0.5616', '.5616', ''),\n",
        " ('62000', '0.5368', '0.5368', '.5368', ''),\n",
        " ('63000', '0.5348', '0.5348', '.5348', ''),\n",
        " ('64000', '0.5564', '0.5564', '.5564', ''),\n",
        " ('65000', '0.5448', '0.5448', '.5448', ''),\n",
        " ('66000', '0.5452', '0.5452', '.5452', ''),\n",
        " ('67000', '0.5556', '0.5556', '.5556', ''),\n",
        " ('68000', '0.5646', '0.5646', '.5646', ''),\n",
        " ('69000', '0.5364', '0.5364', '.5364', ''),\n",
        " ('70000', '0.5474', '0.5474', '.5474', ''),\n",
        " ('71000', '0.5472', '0.5472', '.5472', ''),\n",
        " ('72000', '0.5402', '0.5402', '.5402', ''),\n",
        " ('73000', '0.5462', '0.5462', '.5462', ''),\n",
        " ('74000', '0.5448', '0.5448', '.5448', ''),\n",
        " ('75000', '0.5658', '0.5658', '.5658', ''),\n",
        " ('76000', '0.5536', '0.5536', '.5536', ''),\n",
        " ('77000', '0.5336', '0.5336', '.5336', ''),\n",
        " ('78000', '0.5432', '0.5432', '.5432', ''),\n",
        " ('79000', '0.5446', '0.5446', '.5446', ''),\n",
        " ('80000', '0.5398', '0.5398', '.5398', ''),\n",
        " ('81000', '0.5528', '0.5528', '.5528', ''),\n",
        " ('82000', '0.5594', '0.5594', '.5594', ''),\n",
        " ('83000', '0.5612', '0.5612', '.5612', ''),\n",
        " ('84000', '0.53', '0.53', '.53', ''),\n",
        " ('85000', '0.537', '0.537', '.537', ''),\n",
        " ('86000', '0.5578', '0.5578', '.5578', ''),\n",
        " ('87000', '0.5346', '0.5346', '.5346', ''),\n",
        " ('88000', '0.5468', '0.5468', '.5468', ''),\n",
        " ('89000', '0.559', '0.559', '.559', ''),\n",
        " ('90000', '0.564', '0.564', '.564', ''),\n",
        " ('91000', '0.535', '0.535', '.535', ''),\n",
        " ('92000', '0.5358', '0.5358', '.5358', ''),\n",
        " ('93000', '0.5456', '0.5456', '.5456', ''),\n",
        " ('94000', '0.5436', '0.5436', '.5436', ''),\n",
        " ('95000', '0.5504', '0.5504', '.5504', ''),\n",
        " ('96000', '0.5524', '0.5524', '.5524', ''),\n",
        " ('97000', '0.5548', '0.5548', '.5548', ''),\n",
        " ('98000', '0.5472', '0.5472', '.5472', ''),\n",
        " ('99000', '0.5362', '0.5362', '.5362', ''),\n",
        " ('100000', '0.5412', '0.5412', '.5412', '')]"
       ]
      }
     ],
     "prompt_number": 189
    },
    {
     "cell_type": "code",
     "collapsed": false,
     "input": [
      "iterations = []\n",
      "losses = []\n",
      "for r in res:\n",
      "    iterations.append(int(r[0]))\n",
      "    losses.append(float(r[1]))"
     ],
     "language": "python",
     "metadata": {},
     "outputs": [],
     "prompt_number": 132
    },
    {
     "cell_type": "code",
     "collapsed": false,
     "input": [
      "iterations = np.array(iterations)\n",
      "losses = np.array(losses)"
     ],
     "language": "python",
     "metadata": {},
     "outputs": [],
     "prompt_number": 133
    },
    {
     "cell_type": "code",
     "collapsed": false,
     "input": [
      "plt.plot(iterations, losses)"
     ],
     "language": "python",
     "metadata": {},
     "outputs": [
      {
       "metadata": {},
       "output_type": "pyout",
       "prompt_number": 134,
       "text": [
        "[<matplotlib.lines.Line2D at 0x24d6910>]"
       ]
      },
      {
       "metadata": {},
       "output_type": "display_data",
       "png": "[encoded data removed]",
       "text": [
        "<matplotlib.figure.Figure at 0x2493f90>"
       ]
      }
     ],
     "prompt_number": 134
    },
    {
     "cell_type": "code",
     "collapsed": false,
     "input": [
      "losses[52500/20:52800/20]"
     ],
     "language": "python",
     "metadata": {},
     "outputs": [
      {
       "metadata": {},
       "output_type": "pyout",
       "prompt_number": 118,
       "text": [
        "array([  1.78120000e-03,   6.40289000e-02,   2.16532000e-02,\n",
        "         2.18290000e-03,   6.51529000e-02,   4.16402000e-03,\n",
        "         4.09291000e-03,   6.11513000e-03,   4.08117000e-03,\n",
        "         8.45769000e+00,   2.58344000e-03,   2.31531000e-02,\n",
        "         9.79612000e-03,   5.61470000e-03,   1.60496000e-02])"
       ]
      }
     ],
     "prompt_number": 118
    },
    {
     "cell_type": "code",
     "collapsed": false,
     "input": [],
     "language": "python",
     "metadata": {},
     "outputs": []
    }
   ],
   "metadata": {}
  }
 ]
}