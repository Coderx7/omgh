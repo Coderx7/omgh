{
 "metadata": {
  "name": "",
  "signature": "sha256:d1fb44b8383f29a30f9270f3f7acd2f2b6e240bd5ca0f1f0e14e6faf02946cac"
 },
 "nbformat": 3,
 "nbformat_minor": 0,
 "worksheets": [
  {
   "cells": [
    {
     "cell_type": "code",
     "collapsed": false,
     "input": [
      "import sys\n",
      "sys.path.append('../src')\n",
      "import settings\n",
      "sys.path.append(settings.CAFFE_PYTHON_PATH)\n",
      "import caffe\n",
      "import dataset\n",
      "import cub_utils\n",
      "import utils\n",
      "import rects\n",
      "import parts\n",
      "import numpy as np\n",
      "import matplotlib.pylab as plt\n",
      "%matplotlib inline\n",
      "\n",
      "import sklearn.svm\n",
      "import sklearn.metrics\n",
      "from datetime import datetime as dt\n",
      "\n",
      "from storage import datastore\n",
      "from deep_extractor import CNN_Features_CAFFE_REFERENCE, Berkeley_Extractor"
     ],
     "language": "python",
     "metadata": {},
     "outputs": [],
     "prompt_number": 1
    },
    {
     "cell_type": "code",
     "collapsed": false,
     "input": [
      "cub = dataset.CUB_200_2011(settings.CUB_ROOT)\n",
      "all_img_infos = cub.get_all_image_infos()\n",
      "all_seg_infos = cub.get_all_segmentation_infos()\n",
      "IDtrain, IDtest = cub.get_train_test_id()\n",
      "cub_parts = cub.get_parts()\n",
      "cub_bbox = cub.get_bbox()"
     ],
     "language": "python",
     "metadata": {},
     "outputs": [],
     "prompt_number": 2
    },
    {
     "cell_type": "code",
     "collapsed": false,
     "input": [
      "feature_extractor = CNN_Features_CAFFE_REFERENCE(datastore(settings.storage('f_ccrftt_1-60000')))\n",
      "Xtrain_r, ytrain, Xtest_r, ytest = cub.get_train_test(feature_extractor.extract_one)"
     ],
     "language": "python",
     "metadata": {},
     "outputs": [],
     "prompt_number": 3
    },
    {
     "cell_type": "code",
     "collapsed": false,
     "input": [
      "feature_extractor = CNN_Features_CAFFE_REFERENCE(datastore(settings.storage('f_cccftt_1-60000')))\n",
      "Xtrain_c, ytrain, Xtest_c, ytest = cub.get_train_test(feature_extractor.extract_one)"
     ],
     "language": "python",
     "metadata": {},
     "outputs": [],
     "prompt_number": 10
    },
    {
     "cell_type": "code",
     "collapsed": false,
     "input": [
      "feature_extractor = CNN_Features_CAFFE_REFERENCE(datastore(settings.storage('f_ccphrf_def_unif_1-60000')))\n",
      "Xtrain_h, ytrain, Xtest_h, ytest = cub.get_train_test(feature_extractor.extract_one)"
     ],
     "language": "python",
     "metadata": {},
     "outputs": [],
     "prompt_number": 4
    },
    {
     "cell_type": "code",
     "collapsed": false,
     "input": [
      "feature_extractor = CNN_Features_CAFFE_REFERENCE(datastore(settings.storage('f_ccpbrf_def_unif_1-60000')))\n",
      "Xtrain_b, ytrain, Xtest_b, ytest = cub.get_train_test(feature_extractor.extract_one)"
     ],
     "language": "python",
     "metadata": {},
     "outputs": [],
     "prompt_number": 5
    },
    {
     "cell_type": "code",
     "collapsed": false,
     "input": [
      "feature_extractor = Berkeley_Extractor(datastore(settings.storage('bmbc')))\n",
      "Xtrain_c_b, ytrain, Xtest_c_b, ytest = cub.get_train_test(feature_extractor.extract_one)"
     ],
     "language": "python",
     "metadata": {},
     "outputs": [],
     "prompt_number": 10
    },
    {
     "cell_type": "code",
     "collapsed": false,
     "input": [
      "feature_extractor = CNN_Features_CAFFE_REFERENCE(datastore(settings.storage('ccrft2st-10000')))\n",
      "Xtrain_r_2, ytrain, Xtest_r_2, ytest = cub.get_train_test(feature_extractor.extract_one)"
     ],
     "language": "python",
     "metadata": {},
     "outputs": [],
     "prompt_number": 16
    },
    {
     "cell_type": "code",
     "collapsed": false,
     "input": [
      "feature_extractor = CNN_Features_CAFFE_REFERENCE(datastore(settings.storage('cccft2st-50000')))\n",
      "Xtrain_c_2, ytrain, Xtest_c_2, ytest = cub.get_train_test(feature_extractor.extract_one)"
     ],
     "language": "python",
     "metadata": {},
     "outputs": [],
     "prompt_number": 20
    },
    {
     "cell_type": "code",
     "collapsed": false,
     "input": [
      "feature_extractor = CNN_Features_CAFFE_REFERENCE(datastore(settings.storage('f_cccrf_def_1-60000')))\n",
      "Xtrain_c_rf, ytrain, Xtest_c_rf, ytest = cub.get_train_test(feature_extractor.extract_one)"
     ],
     "language": "python",
     "metadata": {},
     "outputs": [],
     "prompt_number": 30
    },
    {
     "cell_type": "code",
     "collapsed": false,
     "input": [
      "Xtrain_final = np.hstack((Xtrain_r, Xtrain_c_rf, Xtrain_h, Xtrain_b))\n",
      "Xtest_final = np.hstack((Xtest_r, Xtest_c_rf, Xtest_h, Xtest_b))\n",
      "\n",
      "# Xtrain_final = Xtrain_c\n",
      "# Xtest_final = Xtest_c"
     ],
     "language": "python",
     "metadata": {},
     "outputs": [],
     "prompt_number": 7
    },
    {
     "cell_type": "code",
     "collapsed": false,
     "input": [
      "model = sklearn.svm.LinearSVC(C=1e-5)\n",
      "model.fit(Xtrain_final, ytrain)\n",
      "preds = model.predict(Xtest_final)\n",
      "\n",
      "print sklearn.metrics.accuracy_score(ytest, preds), utils.mean_accuracy(ytest, preds)"
     ],
     "language": "python",
     "metadata": {},
     "outputs": [
      {
       "output_type": "stream",
       "stream": "stdout",
       "text": [
        "0.722471522264 0.724966\n"
       ]
      }
     ],
     "prompt_number": 8
    },
    {
     "cell_type": "heading",
     "level": 1,
     "metadata": {},
     "source": [
      "Baseline"
     ]
    },
    {
     "cell_type": "code",
     "collapsed": false,
     "input": [
      "feature_extractor = CNN_Features_CAFFE_REFERENCE(datastore(settings.storage('f_ccrftt_1-60000')))\n",
      "Xtrain_r_ft, ytrain, Xtest_r_ft, ytest = cub.get_train_test(feature_extractor.extract_one)"
     ],
     "language": "python",
     "metadata": {},
     "outputs": [],
     "prompt_number": 10
    },
    {
     "cell_type": "code",
     "collapsed": false,
     "input": [
      "feature_extractor = CNN_Features_CAFFE_REFERENCE(datastore(settings.storage('f_cccftt_1-60000')))\n",
      "Xtrain_c_ft, ytrain, Xtest_c_ft, ytest = cub.get_train_test(feature_extractor.extract_one)"
     ],
     "language": "python",
     "metadata": {},
     "outputs": [],
     "prompt_number": 11
    },
    {
     "cell_type": "code",
     "collapsed": false,
     "input": [
      "feature_extractor = CNN_Features_CAFFE_REFERENCE(datastore(settings.storage('ccr')))\n",
      "Xtrain_r, ytrain, Xtest_r, ytest = cub.get_train_test(feature_extractor.extract_one)"
     ],
     "language": "python",
     "metadata": {},
     "outputs": [],
     "prompt_number": 12
    },
    {
     "cell_type": "code",
     "collapsed": false,
     "input": [
      "feature_extractor = CNN_Features_CAFFE_REFERENCE(datastore(settings.storage('ccc')))\n",
      "Xtrain_c, ytrain, Xtest_c, ytest = cub.get_train_test(feature_extractor.extract_one)"
     ],
     "language": "python",
     "metadata": {},
     "outputs": [],
     "prompt_number": 13
    },
    {
     "cell_type": "heading",
     "level": 3,
     "metadata": {},
     "source": [
      "R"
     ]
    },
    {
     "cell_type": "code",
     "collapsed": false,
     "input": [
      "Xtrain_final = Xtrain_r\n",
      "Xtest_final = Xtest_r\n",
      "\n",
      "model = sklearn.svm.LinearSVC(C=1e-4)\n",
      "model.fit(Xtrain_final, ytrain)\n",
      "preds = model.predict(Xtest_final)\n",
      "\n",
      "print sklearn.metrics.accuracy_score(ytest, preds), utils.mean_accuracy(ytest, preds)"
     ],
     "language": "python",
     "metadata": {},
     "outputs": [
      {
       "output_type": "stream",
       "stream": "stdout",
       "text": [
        "0.485329651363 0.489643\n"
       ]
      }
     ],
     "prompt_number": 20
    },
    {
     "cell_type": "heading",
     "level": 3,
     "metadata": {},
     "source": [
      "R-ft"
     ]
    },
    {
     "cell_type": "code",
     "collapsed": false,
     "input": [
      "Xtrain_final = Xtrain_r_ft\n",
      "Xtest_final = Xtest_r_ft\n",
      "\n",
      "model = sklearn.svm.LinearSVC(C=1e-4)\n",
      "model.fit(Xtrain_final, ytrain)\n",
      "preds = model.predict(Xtest_final)\n",
      "\n",
      "print sklearn.metrics.accuracy_score(ytest, preds), utils.mean_accuracy(ytest, preds)"
     ],
     "language": "python",
     "metadata": {},
     "outputs": [
      {
       "output_type": "stream",
       "stream": "stdout",
       "text": [
        "0.52002071108 0.524735\n"
       ]
      }
     ],
     "prompt_number": 21
    },
    {
     "cell_type": "heading",
     "level": 3,
     "metadata": {},
     "source": [
      "C"
     ]
    },
    {
     "cell_type": "code",
     "collapsed": false,
     "input": [
      "Xtrain_final = Xtrain_c\n",
      "Xtest_final = Xtest_c\n",
      "\n",
      "model = sklearn.svm.LinearSVC(C=1e-4)\n",
      "model.fit(Xtrain_final, ytrain)\n",
      "preds = model.predict(Xtest_final)\n",
      "\n",
      "print sklearn.metrics.accuracy_score(ytest, preds), utils.mean_accuracy(ytest, preds)"
     ],
     "language": "python",
     "metadata": {},
     "outputs": [
      {
       "output_type": "stream",
       "stream": "stdout",
       "text": [
        "0.57352433552 0.578022\n"
       ]
      }
     ],
     "prompt_number": 22
    },
    {
     "cell_type": "heading",
     "level": 3,
     "metadata": {},
     "source": [
      "C-ft"
     ]
    },
    {
     "cell_type": "code",
     "collapsed": false,
     "input": [
      "Xtrain_final = Xtrain_c_ft\n",
      "Xtest_final = Xtest_c_ft\n",
      "\n",
      "model = sklearn.svm.LinearSVC(C=1e-4)\n",
      "model.fit(Xtrain_final, ytrain)\n",
      "preds = model.predict(Xtest_final)\n",
      "\n",
      "print sklearn.metrics.accuracy_score(ytest, preds), utils.mean_accuracy(ytest, preds)"
     ],
     "language": "python",
     "metadata": {},
     "outputs": [
      {
       "output_type": "stream",
       "stream": "stdout",
       "text": [
        "0.641525716258 0.644514\n"
       ]
      }
     ],
     "prompt_number": 23
    },
    {
     "cell_type": "heading",
     "level": 3,
     "metadata": {},
     "source": [
      "R+C"
     ]
    },
    {
     "cell_type": "code",
     "collapsed": false,
     "input": [
      "Xtrain_final = np.hstack((Xtrain_r, Xtrain_c))\n",
      "Xtest_final = np.hstack((Xtest_r, Xtest_c))\n",
      "\n",
      "model = sklearn.svm.LinearSVC(C=1e-4)\n",
      "model.fit(Xtrain_final, ytrain)\n",
      "preds = model.predict(Xtest_final)\n",
      "\n",
      "print sklearn.metrics.accuracy_score(ytest, preds), utils.mean_accuracy(ytest, preds)"
     ],
     "language": "python",
     "metadata": {},
     "outputs": [
      {
       "output_type": "stream",
       "stream": "stdout",
       "text": [
        "0.599240593718 0.603098\n"
       ]
      }
     ],
     "prompt_number": 24
    },
    {
     "cell_type": "heading",
     "level": 3,
     "metadata": {},
     "source": [
      "R-ft+C-ft"
     ]
    },
    {
     "cell_type": "code",
     "collapsed": false,
     "input": [
      "Xtrain_final = np.hstack((Xtrain_r_ft, Xtrain_c_ft))\n",
      "Xtest_final = np.hstack((Xtest_r_ft, Xtest_c_ft))\n",
      "\n",
      "model = sklearn.svm.LinearSVC(C=1e-4)\n",
      "model.fit(Xtrain_final, ytrain)\n",
      "preds = model.predict(Xtest_final)\n",
      "\n",
      "print sklearn.metrics.accuracy_score(ytest, preds), utils.mean_accuracy(ytest, preds)"
     ],
     "language": "python",
     "metadata": {},
     "outputs": [
      {
       "output_type": "stream",
       "stream": "stdout",
       "text": [
        "0.660165688643 0.663286\n"
       ]
      }
     ],
     "prompt_number": 26
    },
    {
     "cell_type": "code",
     "collapsed": false,
     "input": [
      "Xtrain_final = Xtrain_c_rf\n",
      "Xtest_final = Xtest_c_rf\n",
      "\n",
      "model = sklearn.svm.LinearSVC(C=1e-4)\n",
      "model.fit(Xtrain_final, ytrain)\n",
      "preds = model.predict(Xtest_final)\n",
      "\n",
      "print sklearn.metrics.accuracy_score(ytest, preds), utils.mean_accuracy(ytest, preds)"
     ],
     "language": "python",
     "metadata": {},
     "outputs": [
      {
       "output_type": "stream",
       "stream": "stdout",
       "text": [
        "0.613220573007 0.615845\n"
       ]
      }
     ],
     "prompt_number": 31
    },
    {
     "cell_type": "code",
     "collapsed": false,
     "input": [],
     "language": "python",
     "metadata": {},
     "outputs": []
    }
   ],
   "metadata": {}
  }
 ]
}