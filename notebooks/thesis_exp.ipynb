{
 "metadata": {
  "name": "",
  "signature": "sha256:12da170397e51c60e1156cb4544c24901c26e4e38fe9d6346cc9698e113d4130"
 },
 "nbformat": 3,
 "nbformat_minor": 0,
 "worksheets": [
  {
   "cells": [
    {
     "cell_type": "code",
     "collapsed": false,
     "input": [
      "import sys\n",
      "sys.path.append('../src')\n",
      "import settings\n",
      "sys.path.append(settings.CAFFE_PYTHON_PATH)\n",
      "import caffe\n",
      "import dataset\n",
      "import cub_utils\n",
      "import utils\n",
      "import rects\n",
      "import parts\n",
      "import numpy as np\n",
      "import matplotlib.pylab as plt\n",
      "%matplotlib inline\n",
      "\n",
      "import sklearn.svm\n",
      "import sklearn.metrics\n",
      "from datetime import datetime as dt\n",
      "\n",
      "from storage import datastore\n",
      "from deep_extractor import CNN_Features_CAFFE_REFERENCE, Berkeley_Extractor"
     ],
     "language": "python",
     "metadata": {},
     "outputs": [],
     "prompt_number": 1
    },
    {
     "cell_type": "code",
     "collapsed": false,
     "input": [
      "cub = dataset.CUB_200_2011(settings.CUB_ROOT)\n",
      "all_img_infos = cub.get_all_image_infos()\n",
      "all_seg_infos = cub.get_all_segmentation_infos()\n",
      "IDtrain, IDtest = cub.get_train_test_id()\n",
      "cub_parts = cub.get_parts()\n",
      "cub_bbox = cub.get_bbox()"
     ],
     "language": "python",
     "metadata": {},
     "outputs": [],
     "prompt_number": 2
    },
    {
     "cell_type": "code",
     "collapsed": false,
     "input": [
      "feature_extractor = CNN_Features_CAFFE_REFERENCE(datastore(settings.storage('f_ccrftt_1-60000')))\n",
      "Xtrain_r, ytrain, Xtest_r, ytest = cub.get_train_test(feature_extractor.extract_one)"
     ],
     "language": "python",
     "metadata": {},
     "outputs": [],
     "prompt_number": 3
    },
    {
     "cell_type": "code",
     "collapsed": false,
     "input": [
      "feature_extractor = CNN_Features_CAFFE_REFERENCE(datastore(settings.storage('f_cccftt_1-60000')))\n",
      "Xtrain_c, ytrain, Xtest_c, ytest = cub.get_train_test(feature_extractor.extract_one)"
     ],
     "language": "python",
     "metadata": {},
     "outputs": [],
     "prompt_number": 4
    },
    {
     "cell_type": "code",
     "collapsed": false,
     "input": [
      "feature_extractor = CNN_Features_CAFFE_REFERENCE(datastore(settings.storage('f_ccphrf_def_unif_1-60000')))\n",
      "Xtrain_h, ytrain, Xtest_h, ytest = cub.get_train_test(feature_extractor.extract_one)"
     ],
     "language": "python",
     "metadata": {},
     "outputs": [],
     "prompt_number": 5
    },
    {
     "cell_type": "code",
     "collapsed": false,
     "input": [
      "feature_extractor = CNN_Features_CAFFE_REFERENCE(datastore(settings.storage('f_ccpbrf_def_unif_1-60000')))\n",
      "Xtrain_b, ytrain, Xtest_b, ytest = cub.get_train_test(feature_extractor.extract_one)"
     ],
     "language": "python",
     "metadata": {},
     "outputs": [],
     "prompt_number": 6
    },
    {
     "cell_type": "code",
     "collapsed": false,
     "input": [
      "feature_extractor = Berkeley_Extractor(datastore(settings.storage('bmbc')))\n",
      "Xtrain_c_b, ytrain, Xtest_c_b, ytest = cub.get_train_test(feature_extractor.extract_one)"
     ],
     "language": "python",
     "metadata": {},
     "outputs": [],
     "prompt_number": 10
    },
    {
     "cell_type": "code",
     "collapsed": false,
     "input": [
      "feature_extractor = CNN_Features_CAFFE_REFERENCE(datastore(settings.storage('ccrft2st-10000')))\n",
      "Xtrain_r_2, ytrain, Xtest_r_2, ytest = cub.get_train_test(feature_extractor.extract_one)"
     ],
     "language": "python",
     "metadata": {},
     "outputs": [],
     "prompt_number": 16
    },
    {
     "cell_type": "code",
     "collapsed": false,
     "input": [
      "feature_extractor = CNN_Features_CAFFE_REFERENCE(datastore(settings.storage('cccft2st-50000')))\n",
      "Xtrain_c_2, ytrain, Xtest_c_2, ytest = cub.get_train_test(feature_extractor.extract_one)"
     ],
     "language": "python",
     "metadata": {},
     "outputs": [],
     "prompt_number": 20
    },
    {
     "cell_type": "code",
     "collapsed": false,
     "input": [
      "Xtrain_final = np.hstack((Xtrain_r, Xtrain_c, Xtrain_h, Xtrain_b))\n",
      "Xtest_final = np.hstack((Xtest_r, Xtest_c, Xtest_h, Xtest_b))"
     ],
     "language": "python",
     "metadata": {},
     "outputs": [],
     "prompt_number": 25
    },
    {
     "cell_type": "code",
     "collapsed": false,
     "input": [
      "model = sklearn.svm.LinearSVC(C=1e-5)\n",
      "model.fit(Xtrain_final, ytrain)\n",
      "preds = model.predict(Xtest_final)\n",
      "\n",
      "print sklearn.metrics.accuracy_score(ytest, preds), utils.mean_accuracy(ytest, preds)"
     ],
     "language": "python",
     "metadata": {},
     "outputs": [
      {
       "output_type": "stream",
       "stream": "stdout",
       "text": [
        "0.733344839489 0.736244\n"
       ]
      }
     ],
     "prompt_number": 26
    },
    {
     "cell_type": "code",
     "collapsed": false,
     "input": [],
     "language": "python",
     "metadata": {},
     "outputs": []
    }
   ],
   "metadata": {}
  }
 ]
}