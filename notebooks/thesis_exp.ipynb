{
 "metadata": {
  "name": "",
  "signature": "sha256:a017c76cb64d1fc71eb303b0c0a16839221453d1f2b1aed0714ff386399b17f0"
 },
 "nbformat": 3,
 "nbformat_minor": 0,
 "worksheets": [
  {
   "cells": [
    {
     "cell_type": "code",
     "collapsed": false,
     "input": [
      "import sys\n",
      "sys.path.append('../src')\n",
      "import settings\n",
      "sys.path.append(settings.CAFFE_PYTHON_PATH)\n",
      "import caffe\n",
      "import dataset\n",
      "import cub_utils\n",
      "import utils\n",
      "import rects\n",
      "import parts\n",
      "import numpy as np\n",
      "import matplotlib.pylab as plt\n",
      "%matplotlib inline\n",
      "\n",
      "import sklearn.svm\n",
      "import sklearn.metrics\n",
      "import sklearn.grid_search\n",
      "from datetime import datetime as dt\n",
      "\n",
      "from storage import datastore\n",
      "from deep_extractor import CNN_Features_CAFFE_REFERENCE, Berkeley_Extractor"
     ],
     "language": "python",
     "metadata": {},
     "outputs": [],
     "prompt_number": 1
    },
    {
     "cell_type": "code",
     "collapsed": false,
     "input": [
      "cub = dataset.CUB_200_2011(settings.CUB_ROOT)\n",
      "all_img_infos = cub.get_all_image_infos()\n",
      "all_seg_infos = cub.get_all_segmentation_infos()\n",
      "IDtrain, IDtest = cub.get_train_test_id()\n",
      "cub_parts = cub.get_parts()\n",
      "cub_bbox = cub.get_bbox()"
     ],
     "language": "python",
     "metadata": {},
     "outputs": [],
     "prompt_number": 2
    },
    {
     "cell_type": "heading",
     "level": 1,
     "metadata": {},
     "source": [
      "Baseline"
     ]
    },
    {
     "cell_type": "code",
     "collapsed": false,
     "input": [
      "feature_extractor = CNN_Features_CAFFE_REFERENCE(datastore(settings.storage('f_ccrftt_1-60000')))\n",
      "Xtrain_r_ft, ytrain, Xtest_r_ft, ytest = cub.get_train_test(feature_extractor.extract_one)"
     ],
     "language": "python",
     "metadata": {},
     "outputs": [],
     "prompt_number": 3
    },
    {
     "cell_type": "code",
     "collapsed": false,
     "input": [
      "feature_extractor = CNN_Features_CAFFE_REFERENCE(datastore(settings.storage('f_cccftt_1-60000')))\n",
      "Xtrain_c_ft, ytrain, Xtest_c_ft, ytest = cub.get_train_test(feature_extractor.extract_one)"
     ],
     "language": "python",
     "metadata": {},
     "outputs": [],
     "prompt_number": 4
    },
    {
     "cell_type": "code",
     "collapsed": false,
     "input": [
      "feature_extractor = CNN_Features_CAFFE_REFERENCE(datastore(settings.storage('ccr')))\n",
      "Xtrain_r, ytrain, Xtest_r, ytest = cub.get_train_test(feature_extractor.extract_one)"
     ],
     "language": "python",
     "metadata": {},
     "outputs": [],
     "prompt_number": 9
    },
    {
     "cell_type": "code",
     "collapsed": false,
     "input": [
      "feature_extractor = CNN_Features_CAFFE_REFERENCE(datastore(settings.storage('ccc')))\n",
      "Xtrain_c, ytrain, Xtest_c, ytest = cub.get_train_test(feature_extractor.extract_one)"
     ],
     "language": "python",
     "metadata": {},
     "outputs": [],
     "prompt_number": 10
    },
    {
     "cell_type": "code",
     "collapsed": false,
     "input": [
      "Xtrain_h, ytrain, Xtest_h, ytest = cub.get_train_test(CNN_Features_CAFFE_REFERENCE(\n",
      "    datastore(settings.storage('f_ccphrf_def_unif_1-60000'))).extract_one)"
     ],
     "language": "python",
     "metadata": {},
     "outputs": [],
     "prompt_number": 5
    },
    {
     "cell_type": "code",
     "collapsed": false,
     "input": [
      "Xtrain_b, ytrain, Xtest_b, ytest = cub.get_train_test(CNN_Features_CAFFE_REFERENCE(\n",
      "    datastore(settings.storage('f_ccpbrf_def_unif_1-60000'))).extract_one)"
     ],
     "language": "python",
     "metadata": {},
     "outputs": [],
     "prompt_number": 6
    },
    {
     "cell_type": "code",
     "collapsed": false,
     "input": [
      "Xtrain_c_ft_rf, ytrain, Xtest_c_ft_rf, ytest = cub.get_train_test(CNN_Features_CAFFE_REFERENCE(\n",
      "    datastore(settings.storage('f_cccrf_def_1-60000'))).extract_one)"
     ],
     "language": "python",
     "metadata": {},
     "outputs": [],
     "prompt_number": 7
    },
    {
     "cell_type": "heading",
     "level": 3,
     "metadata": {},
     "source": [
      "R"
     ]
    },
    {
     "cell_type": "code",
     "collapsed": false,
     "input": [
      "Xtrain_final = Xtrain_r\n",
      "Xtest_final = Xtest_r\n",
      "\n",
      "model = sklearn.svm.LinearSVC(C=1e-4)\n",
      "model.fit(Xtrain_final, ytrain)\n",
      "preds = model.predict(Xtest_final)\n",
      "\n",
      "print sklearn.metrics.accuracy_score(ytest, preds), utils.mean_accuracy(ytest, preds)"
     ],
     "language": "python",
     "metadata": {},
     "outputs": [
      {
       "output_type": "stream",
       "stream": "stdout",
       "text": [
        "0.485329651363 0.489643\n"
       ]
      }
     ],
     "prompt_number": 15
    },
    {
     "cell_type": "heading",
     "level": 3,
     "metadata": {},
     "source": [
      "R-ft"
     ]
    },
    {
     "cell_type": "code",
     "collapsed": false,
     "input": [
      "feature_extractor = CNN_Features_CAFFE_REFERENCE(datastore(settings.storage('f_ccrftt_1-60000')))\n",
      "Xtrain_r_ft, ytrain, Xtest_r_ft, ytest = cub.get_train_test(feature_extractor.extract_one)\n",
      "\n",
      "Xtrain_final = Xtrain_r_ft\n",
      "Xtest_final = Xtest_r_ft\n",
      "\n",
      "model = sklearn.svm.LinearSVC(C=1e-4)\n",
      "model.fit(Xtrain_final, ytrain)\n",
      "preds = model.predict(Xtest_final)\n",
      "\n",
      "print sklearn.metrics.accuracy_score(ytest, preds), utils.mean_accuracy(ytest, preds)"
     ],
     "language": "python",
     "metadata": {},
     "outputs": [
      {
       "output_type": "stream",
       "stream": "stdout",
       "text": [
        "0.52002071108 0.524735\n"
       ]
      }
     ],
     "prompt_number": 16
    },
    {
     "cell_type": "code",
     "collapsed": false,
     "input": [
      "feature_extractor = CNN_Features_CAFFE_REFERENCE(datastore(settings.storage('f_ccrftt_2-60000')))\n",
      "Xtrain_r_ft, ytrain, Xtest_r_ft, ytest = cub.get_train_test(feature_extractor.extract_one)\n",
      "\n",
      "Xtrain_final = Xtrain_r_ft\n",
      "Xtest_final = Xtest_r_ft\n",
      "\n",
      "model = sklearn.svm.LinearSVC(C=1e-4)\n",
      "model.fit(Xtrain_final, ytrain)\n",
      "preds = model.predict(Xtest_final)\n",
      "\n",
      "print sklearn.metrics.accuracy_score(ytest, preds), utils.mean_accuracy(ytest, preds)"
     ],
     "language": "python",
     "metadata": {},
     "outputs": [
      {
       "output_type": "stream",
       "stream": "stdout",
       "text": [
        "0.530721435968 0.53576\n"
       ]
      }
     ],
     "prompt_number": 17
    },
    {
     "cell_type": "code",
     "collapsed": false,
     "input": [
      "feature_extractor = CNN_Features_CAFFE_REFERENCE(datastore(settings.storage('f_ccrftt_3-60000')))\n",
      "Xtrain_r_ft, ytrain, Xtest_r_ft, ytest = cub.get_train_test(feature_extractor.extract_one)\n",
      "\n",
      "Xtrain_final = Xtrain_r_ft\n",
      "Xtest_final = Xtest_r_ft\n",
      "\n",
      "model = sklearn.svm.LinearSVC(C=1e-4)\n",
      "model.fit(Xtrain_final, ytrain)\n",
      "preds = model.predict(Xtest_final)\n",
      "\n",
      "print sklearn.metrics.accuracy_score(ytest, preds), utils.mean_accuracy(ytest, preds)"
     ],
     "language": "python",
     "metadata": {},
     "outputs": [
      {
       "output_type": "stream",
       "stream": "stdout",
       "text": [
        "0.529168104936 0.533501\n"
       ]
      }
     ],
     "prompt_number": 18
    },
    {
     "cell_type": "heading",
     "level": 3,
     "metadata": {},
     "source": [
      "C"
     ]
    },
    {
     "cell_type": "code",
     "collapsed": false,
     "input": [
      "Xtrain_final = Xtrain_c\n",
      "Xtest_final = Xtest_c\n",
      "\n",
      "model = sklearn.svm.LinearSVC(C=1e-4)\n",
      "model.fit(Xtrain_final, ytrain)\n",
      "preds = model.predict(Xtest_final)\n",
      "\n",
      "print sklearn.metrics.accuracy_score(ytest, preds), utils.mean_accuracy(ytest, preds)"
     ],
     "language": "python",
     "metadata": {},
     "outputs": [
      {
       "output_type": "stream",
       "stream": "stdout",
       "text": [
        "0.57352433552 0.578022\n"
       ]
      }
     ],
     "prompt_number": 36
    },
    {
     "cell_type": "heading",
     "level": 3,
     "metadata": {},
     "source": [
      "C-ft"
     ]
    },
    {
     "cell_type": "code",
     "collapsed": false,
     "input": [
      "feature_extractor = CNN_Features_CAFFE_REFERENCE(datastore(settings.storage('f_cccftt_1-60000')))\n",
      "Xtrain_c_ft, ytrain, Xtest_c_ft, ytest = cub.get_train_test(feature_extractor.extract_one)\n",
      "\n",
      "Xtrain_final = Xtrain_c_ft\n",
      "Xtest_final = Xtest_c_ft\n",
      "\n",
      "model = sklearn.svm.LinearSVC(C=1e-4)\n",
      "model.fit(Xtrain_final, ytrain)\n",
      "preds = model.predict(Xtest_final)\n",
      "\n",
      "print sklearn.metrics.accuracy_score(ytest, preds), utils.mean_accuracy(ytest, preds)"
     ],
     "language": "python",
     "metadata": {},
     "outputs": [
      {
       "output_type": "stream",
       "stream": "stdout",
       "text": [
        "0.641525716258 0.644514\n"
       ]
      }
     ],
     "prompt_number": 19
    },
    {
     "cell_type": "code",
     "collapsed": false,
     "input": [
      "feature_extractor = CNN_Features_CAFFE_REFERENCE(datastore(settings.storage('f_cccftt_2-60000')))\n",
      "Xtrain_c_ft, ytrain, Xtest_c_ft, ytest = cub.get_train_test(feature_extractor.extract_one)\n",
      "\n",
      "Xtrain_final = Xtrain_c_ft\n",
      "Xtest_final = Xtest_c_ft\n",
      "\n",
      "model = sklearn.svm.LinearSVC(C=1e-4)\n",
      "model.fit(Xtrain_final, ytrain)\n",
      "preds = model.predict(Xtest_final)\n",
      "\n",
      "print sklearn.metrics.accuracy_score(ytest, preds), utils.mean_accuracy(ytest, preds)"
     ],
     "language": "python",
     "metadata": {},
     "outputs": [
      {
       "output_type": "stream",
       "stream": "stdout",
       "text": [
        "0.640490162237 0.643284\n"
       ]
      }
     ],
     "prompt_number": 20
    },
    {
     "cell_type": "code",
     "collapsed": false,
     "input": [
      "feature_extractor = CNN_Features_CAFFE_REFERENCE(datastore(settings.storage('f_cccftt_3-60000')))\n",
      "Xtrain_c_ft, ytrain, Xtest_c_ft, ytest = cub.get_train_test(feature_extractor.extract_one)\n",
      "\n",
      "Xtrain_final = Xtrain_c_ft\n",
      "Xtest_final = Xtest_c_ft\n",
      "\n",
      "model = sklearn.svm.LinearSVC(C=1e-4)\n",
      "model.fit(Xtrain_final, ytrain)\n",
      "preds = model.predict(Xtest_final)\n",
      "\n",
      "print sklearn.metrics.accuracy_score(ytest, preds), utils.mean_accuracy(ytest, preds)"
     ],
     "language": "python",
     "metadata": {},
     "outputs": [
      {
       "output_type": "stream",
       "stream": "stdout",
       "text": [
        "0.638591646531 0.641345\n"
       ]
      }
     ],
     "prompt_number": 21
    },
    {
     "cell_type": "heading",
     "level": 3,
     "metadata": {},
     "source": [
      "R+C"
     ]
    },
    {
     "cell_type": "code",
     "collapsed": false,
     "input": [
      "Xtrain_final = np.hstack((Xtrain_r, Xtrain_c))\n",
      "Xtest_final = np.hstack((Xtest_r, Xtest_c))\n",
      "\n",
      "model = sklearn.svm.LinearSVC(C=1e-4)\n",
      "model.fit(Xtrain_final, ytrain)\n",
      "preds = model.predict(Xtest_final)\n",
      "\n",
      "print sklearn.metrics.accuracy_score(ytest, preds), utils.mean_accuracy(ytest, preds)"
     ],
     "language": "python",
     "metadata": {},
     "outputs": [
      {
       "output_type": "stream",
       "stream": "stdout",
       "text": [
        "0.599240593718 0.603098\n"
       ]
      }
     ],
     "prompt_number": 24
    },
    {
     "cell_type": "heading",
     "level": 3,
     "metadata": {},
     "source": [
      "R-ft+C-ft"
     ]
    },
    {
     "cell_type": "code",
     "collapsed": false,
     "input": [
      "Xtrain_r_ft, ytrain, Xtest_r_ft, ytest = cub.get_train_test(CNN_Features_CAFFE_REFERENCE(datastore(settings.storage('f_ccrftt_1-60000'))).extract_one)\n",
      "Xtrain_c_ft, ytrain, Xtest_c_ft, ytest = cub.get_train_test(CNN_Features_CAFFE_REFERENCE(datastore(settings.storage('f_cccftt_1-60000'))).extract_one)\n",
      "\n",
      "Xtrain_final = np.hstack((Xtrain_r_ft, Xtrain_c_ft))\n",
      "Xtest_final = np.hstack((Xtest_r_ft, Xtest_c_ft))\n",
      "\n",
      "model = sklearn.svm.LinearSVC(C=1e-4)\n",
      "model.fit(Xtrain_final, ytrain)\n",
      "preds = model.predict(Xtest_final)\n",
      "\n",
      "print sklearn.metrics.accuracy_score(ytest, preds), utils.mean_accuracy(ytest, preds)"
     ],
     "language": "python",
     "metadata": {},
     "outputs": [
      {
       "output_type": "stream",
       "stream": "stdout",
       "text": [
        "0.660165688643 0.663286\n"
       ]
      }
     ],
     "prompt_number": 3
    },
    {
     "cell_type": "code",
     "collapsed": false,
     "input": [
      "Xtrain_r_ft, ytrain, Xtest_r_ft, ytest = cub.get_train_test(CNN_Features_CAFFE_REFERENCE(datastore(settings.storage('f_ccrftt_2-60000'))).extract_one)\n",
      "Xtrain_c_ft, ytrain, Xtest_c_ft, ytest = cub.get_train_test(CNN_Features_CAFFE_REFERENCE(datastore(settings.storage('f_cccftt_2-60000'))).extract_one)\n",
      "\n",
      "Xtrain_final = np.hstack((Xtrain_r_ft, Xtrain_c_ft))\n",
      "Xtest_final = np.hstack((Xtest_r_ft, Xtest_c_ft))\n",
      "\n",
      "model = sklearn.svm.LinearSVC(C=1e-4)\n",
      "model.fit(Xtrain_final, ytrain)\n",
      "preds = model.predict(Xtest_final)\n",
      "\n",
      "print sklearn.metrics.accuracy_score(ytest, preds), utils.mean_accuracy(ytest, preds)"
     ],
     "language": "python",
     "metadata": {},
     "outputs": [
      {
       "output_type": "stream",
       "stream": "stdout",
       "text": [
        "0.655850880221 0.658868\n"
       ]
      }
     ],
     "prompt_number": 4
    },
    {
     "cell_type": "code",
     "collapsed": false,
     "input": [
      "Xtrain_r_ft, ytrain, Xtest_r_ft, ytest = cub.get_train_test(CNN_Features_CAFFE_REFERENCE(datastore(settings.storage('f_ccrftt_3-60000'))).extract_one)\n",
      "Xtrain_c_ft, ytrain, Xtest_c_ft, ytest = cub.get_train_test(CNN_Features_CAFFE_REFERENCE(datastore(settings.storage('f_cccftt_3-60000'))).extract_one)\n",
      "\n",
      "Xtrain_final = np.hstack((Xtrain_r_ft, Xtrain_c_ft))\n",
      "Xtest_final = np.hstack((Xtest_r_ft, Xtest_c_ft))\n",
      "\n",
      "model = sklearn.svm.LinearSVC(C=1e-4)\n",
      "model.fit(Xtrain_final, ytrain)\n",
      "preds = model.predict(Xtest_final)\n",
      "\n",
      "print sklearn.metrics.accuracy_score(ytest, preds), utils.mean_accuracy(ytest, preds)"
     ],
     "language": "python",
     "metadata": {},
     "outputs": [
      {
       "output_type": "stream",
       "stream": "stdout",
       "text": [
        "0.660856057991 0.663518\n"
       ]
      }
     ],
     "prompt_number": 5
    },
    {
     "cell_type": "heading",
     "level": 1,
     "metadata": {},
     "source": [
      "DeepRF"
     ]
    },
    {
     "cell_type": "code",
     "collapsed": false,
     "input": [
      "Xtrain_r_ft, ytrain, Xtest_r_ft, ytest = cub.get_train_test(CNN_Features_CAFFE_REFERENCE(\n",
      "    datastore(settings.storage('f_ccrftt_1-60000'))).extract_one)\n",
      "Xtrain_c_ft, ytrain, Xtest_c_ft, ytest = cub.get_train_test(CNN_Features_CAFFE_REFERENCE(\n",
      "    datastore(settings.storage('f_cccftt_1-60000'))).extract_one)\n",
      "Xtrain_h, ytrain, Xtest_h, ytest = cub.get_train_test(CNN_Features_CAFFE_REFERENCE(\n",
      "    datastore(settings.storage('f_ccphrf_def_unif_1-60000'))).extract_one)\n",
      "Xtrain_b, ytrain, Xtest_b, ytest = cub.get_train_test(CNN_Features_CAFFE_REFERENCE(\n",
      "    datastore(settings.storage('f_ccpbrf_def_unif_1-60000'))).extract_one)\n",
      "\n",
      "Xtrain_final = np.hstack((Xtrain_r_ft, Xtrain_c_ft, Xtrain_h, Xtrain_b))\n",
      "Xtest_final = np.hstack((Xtest_r_ft, Xtest_c_ft, Xtest_h, Xtest_b))\n",
      "\n",
      "model = sklearn.svm.LinearSVC(C=1e-4)\n",
      "model.fit(Xtrain_final, ytrain)\n",
      "preds = model.predict(Xtest_final)\n",
      "\n",
      "print sklearn.metrics.accuracy_score(ytest, preds), utils.mean_accuracy(ytest, preds)"
     ],
     "language": "python",
     "metadata": {},
     "outputs": [
      {
       "output_type": "stream",
       "stream": "stdout",
       "text": [
        "0.735933724543 0.738757\n"
       ]
      }
     ],
     "prompt_number": 9
    },
    {
     "cell_type": "code",
     "collapsed": false,
     "input": [
      "Xtrain_r_ft, ytrain, Xtest_r_ft, ytest = cub.get_train_test(CNN_Features_CAFFE_REFERENCE(\n",
      "    datastore(settings.storage('f_ccrftt_2-60000'))).extract_one)\n",
      "Xtrain_c_ft, ytrain, Xtest_c_ft, ytest = cub.get_train_test(CNN_Features_CAFFE_REFERENCE(\n",
      "    datastore(settings.storage('f_cccftt_2-60000'))).extract_one)\n",
      "Xtrain_h, ytrain, Xtest_h, ytest = cub.get_train_test(CNN_Features_CAFFE_REFERENCE(\n",
      "    datastore(settings.storage('f_ccphrf_def_unif_2-60000'))).extract_one)\n",
      "Xtrain_b, ytrain, Xtest_b, ytest = cub.get_train_test(CNN_Features_CAFFE_REFERENCE(\n",
      "    datastore(settings.storage('f_ccpbrf_def_unif_2-60000'))).extract_one)\n",
      "\n",
      "Xtrain_final = np.hstack((Xtrain_r_ft, Xtrain_c_ft, Xtrain_h, Xtrain_b))\n",
      "Xtest_final = np.hstack((Xtest_r_ft, Xtest_c_ft, Xtest_h, Xtest_b))\n",
      "\n",
      "model = sklearn.svm.LinearSVC(C=1e-4)\n",
      "model.fit(Xtrain_final, ytrain)\n",
      "preds = model.predict(Xtest_final)\n",
      "\n",
      "print sklearn.metrics.accuracy_score(ytest, preds), utils.mean_accuracy(ytest, preds)"
     ],
     "language": "python",
     "metadata": {},
     "outputs": [
      {
       "output_type": "stream",
       "stream": "stdout",
       "text": [
        "0.731791508457 0.734157\n"
       ]
      }
     ],
     "prompt_number": 10
    },
    {
     "cell_type": "code",
     "collapsed": false,
     "input": [
      "Xtrain_r_ft, ytrain, Xtest_r_ft, ytest = cub.get_train_test(CNN_Features_CAFFE_REFERENCE(\n",
      "    datastore(settings.storage('f_ccrftt_3-60000'))).extract_one)\n",
      "Xtrain_c_ft, ytrain, Xtest_c_ft, ytest = cub.get_train_test(CNN_Features_CAFFE_REFERENCE(\n",
      "    datastore(settings.storage('f_cccftt_3-60000'))).extract_one)\n",
      "Xtrain_h, ytrain, Xtest_h, ytest = cub.get_train_test(CNN_Features_CAFFE_REFERENCE(\n",
      "    datastore(settings.storage('f_ccphrf_def_unif_3-60000'))).extract_one)\n",
      "Xtrain_b, ytrain, Xtest_b, ytest = cub.get_train_test(CNN_Features_CAFFE_REFERENCE(\n",
      "    datastore(settings.storage('f_ccpbrf_def_unif_3-60000'))).extract_one)\n",
      "\n",
      "Xtrain_final = np.hstack((Xtrain_r_ft, Xtrain_c_ft, Xtrain_h, Xtrain_b))\n",
      "Xtest_final = np.hstack((Xtest_r_ft, Xtest_c_ft, Xtest_h, Xtest_b))\n",
      "\n",
      "model = sklearn.svm.LinearSVC(C=1e-4)\n",
      "model.fit(Xtrain_final, ytrain)\n",
      "preds = model.predict(Xtest_final)\n",
      "\n",
      "print sklearn.metrics.accuracy_score(ytest, preds), utils.mean_accuracy(ytest, preds)"
     ],
     "language": "python",
     "metadata": {},
     "outputs": [
      {
       "output_type": "stream",
       "stream": "stdout",
       "text": [
        "0.737832240249 0.740365\n"
       ]
      }
     ],
     "prompt_number": 11
    },
    {
     "cell_type": "heading",
     "level": 2,
     "metadata": {},
     "source": [
      "SVM parameter"
     ]
    },
    {
     "cell_type": "code",
     "collapsed": false,
     "input": [
      "Xtrain_final = np.hstack((Xtrain_r_ft, Xtrain_c_ft, Xtrain_h, Xtrain_b))\n",
      "model = sklearn.grid_search.GridSearchCV(sklearn.svm.LinearSVC(), {'C': [1e0, 1e-1, 1e-2, 1e-3, 1e-4, 1e-5, 1e-6]}, n_jobs=3, cv=5)\n",
      "model.fit(Xtrain_final, ytrain)\n",
      "print model.best_params_"
     ],
     "language": "python",
     "metadata": {},
     "outputs": [
      {
       "output_type": "stream",
       "stream": "stdout",
       "text": [
        "{'C': 0.01}\n"
       ]
      }
     ],
     "prompt_number": 31
    },
    {
     "cell_type": "code",
     "collapsed": false,
     "input": [
      "model.grid_scores_"
     ],
     "language": "python",
     "metadata": {},
     "outputs": [
      {
       "metadata": {},
       "output_type": "pyout",
       "prompt_number": 32,
       "text": [
        "[mean: 0.95963, std: 0.00441, params: {'C': 1.0},\n",
        " mean: 0.95963, std: 0.00441, params: {'C': 0.1},\n",
        " mean: 0.95979, std: 0.00434, params: {'C': 0.01},\n",
        " mean: 0.95963, std: 0.00398, params: {'C': 0.001},\n",
        " mean: 0.95796, std: 0.00294, params: {'C': 0.0001},\n",
        " mean: 0.94011, std: 0.00435, params: {'C': 1e-05},\n",
        " mean: 0.87154, std: 0.00354, params: {'C': 1e-06}]"
       ]
      }
     ],
     "prompt_number": 32
    },
    {
     "cell_type": "heading",
     "level": 2,
     "metadata": {},
     "source": [
      "Effect of C"
     ]
    },
    {
     "cell_type": "code",
     "collapsed": false,
     "input": [
      "Xtrain_final = np.hstack((Xtrain_r_ft, Xtrain_c_ft))\n",
      "Xtest_final = np.hstack((Xtest_r_ft, Xtest_c_ft))\n",
      "\n",
      "for c in [1e1, 1e0, 1e-1, 1e-2, 1e-3, 1e-4, 1e-5, 1e-6]:\n",
      "    model = sklearn.svm.LinearSVC(C=c)\n",
      "    model.fit(Xtrain_final, ytrain)\n",
      "    preds = model.predict(Xtest_final)\n",
      "    print c, sklearn.metrics.accuracy_score(ytest, preds), utils.mean_accuracy(ytest, preds)"
     ],
     "language": "python",
     "metadata": {},
     "outputs": [
      {
       "output_type": "stream",
       "stream": "stdout",
       "text": [
        "10.0 0.650155333103 0.653106\n",
        "1.0"
       ]
      },
      {
       "output_type": "stream",
       "stream": "stdout",
       "text": [
        " 0.650155333103 0.653106\n",
        "0.1"
       ]
      },
      {
       "output_type": "stream",
       "stream": "stdout",
       "text": [
        " 0.650155333103 0.653106\n",
        "0.01"
       ]
      },
      {
       "output_type": "stream",
       "stream": "stdout",
       "text": [
        " 0.650155333103 0.653183\n",
        "0.001"
       ]
      },
      {
       "output_type": "stream",
       "stream": "stdout",
       "text": [
        " 0.654124956852 0.657028\n",
        "0.0001"
       ]
      },
      {
       "output_type": "stream",
       "stream": "stdout",
       "text": [
        " 0.660165688643 0.663286\n",
        "1e-05"
       ]
      },
      {
       "output_type": "stream",
       "stream": "stdout",
       "text": [
        " 0.645150155333 0.648536\n",
        "1e-06"
       ]
      },
      {
       "output_type": "stream",
       "stream": "stdout",
       "text": [
        " 0.589920607525 0.593018\n"
       ]
      }
     ],
     "prompt_number": 41
    },
    {
     "cell_type": "heading",
     "level": 1,
     "metadata": {},
     "source": [
      "Oracle Parts"
     ]
    },
    {
     "cell_type": "heading",
     "level": 3,
     "metadata": {},
     "source": [
      "Oh-ft (oracle head)"
     ]
    },
    {
     "cell_type": "markdown",
     "metadata": {},
     "source": [
      "The oracle head method is better than all the baseline methods, only using head"
     ]
    },
    {
     "cell_type": "code",
     "collapsed": false,
     "input": [
      "Xtrain_oh, ytrain, Xtest_oh, ytest = cub.get_train_test(CNN_Features_CAFFE_REFERENCE(\n",
      "    datastore(settings.storage('ccpheadft-100000'))).extract_one)\n",
      "\n",
      "Xtrain_final = Xtrain_oh\n",
      "Xtest_final = Xtest_oh\n",
      "\n",
      "model = sklearn.svm.LinearSVC(C=1e-4)\n",
      "model.fit(Xtrain_final, ytrain)\n",
      "preds = model.predict(Xtest_final)\n",
      "\n",
      "print sklearn.metrics.accuracy_score(ytest, preds), utils.mean_accuracy(ytest, preds)"
     ],
     "language": "python",
     "metadata": {},
     "outputs": [
      {
       "output_type": "stream",
       "stream": "stdout",
       "text": [
        "0.667932343804 0.671085\n"
       ]
      }
     ],
     "prompt_number": 9
    },
    {
     "cell_type": "heading",
     "level": 3,
     "metadata": {},
     "source": [
      "Ob-ft (oracle body)"
     ]
    },
    {
     "cell_type": "code",
     "collapsed": false,
     "input": [
      "Xtrain_ob, ytrain, Xtest_ob, ytest = cub.get_train_test(CNN_Features_CAFFE_REFERENCE(\n",
      "    datastore(settings.storage('ccpbodyft-100000'))).extract_one)\n",
      "\n",
      "Xtrain_final = Xtrain_ob\n",
      "Xtest_final = Xtest_ob\n",
      "\n",
      "model = sklearn.svm.LinearSVC(C=1e-4)\n",
      "model.fit(Xtrain_final, ytrain)\n",
      "preds = model.predict(Xtest_final)\n",
      "\n",
      "print sklearn.metrics.accuracy_score(ytest, preds), utils.mean_accuracy(ytest, preds)"
     ],
     "language": "python",
     "metadata": {},
     "outputs": [
      {
       "output_type": "stream",
       "stream": "stdout",
       "text": [
        "0.527959958578 0.528481\n"
       ]
      }
     ],
     "prompt_number": 10
    },
    {
     "cell_type": "heading",
     "level": 3,
     "metadata": {},
     "source": [
      "R_ft + C_ft + Oh_ft"
     ]
    },
    {
     "cell_type": "code",
     "collapsed": false,
     "input": [
      "Xtrain_oh, ytrain, Xtest_oh, ytest = cub.get_train_test(CNN_Features_CAFFE_REFERENCE(\n",
      "    datastore(settings.storage('ccpheadft-100000'))).extract_one)\n",
      "Xtrain_r_ft, ytrain, Xtest_r_ft, ytest = cub.get_train_test(CNN_Features_CAFFE_REFERENCE(\n",
      "    datastore(settings.storage('f_ccrftt_1-60000'))).extract_one)\n",
      "Xtrain_c_ft, ytrain, Xtest_c_ft, ytest = cub.get_train_test(CNN_Features_CAFFE_REFERENCE(\n",
      "    datastore(settings.storage('f_cccftt_1-60000'))).extract_one)\n",
      "\n",
      "Xtrain_final = np.hstack((Xtrain_r_ft, Xtrain_c_ft, Xtrain_oh))\n",
      "Xtest_final = np.hstack((Xtest_r_ft, Xtest_c_ft, Xtest_oh))\n",
      "\n",
      "model = sklearn.svm.LinearSVC(C=1e-4)\n",
      "model.fit(Xtrain_final, ytrain)\n",
      "preds = model.predict(Xtest_final)\n",
      "\n",
      "print sklearn.metrics.accuracy_score(ytest, preds), utils.mean_accuracy(ytest, preds)"
     ],
     "language": "python",
     "metadata": {},
     "outputs": [
      {
       "output_type": "stream",
       "stream": "stdout",
       "text": [
        "0.782706247843 0.784847\n"
       ]
      }
     ],
     "prompt_number": 6
    },
    {
     "cell_type": "code",
     "collapsed": false,
     "input": [
      "Xtrain_oh, ytrain, Xtest_oh, ytest = cub.get_train_test(CNN_Features_CAFFE_REFERENCE(\n",
      "    datastore(settings.storage('ccpheadft-100000'))).extract_one)\n",
      "Xtrain_r_ft, ytrain, Xtest_r_ft, ytest = cub.get_train_test(CNN_Features_CAFFE_REFERENCE(\n",
      "    datastore(settings.storage('f_ccrftt_2-60000'))).extract_one)\n",
      "Xtrain_c_ft, ytrain, Xtest_c_ft, ytest = cub.get_train_test(CNN_Features_CAFFE_REFERENCE(\n",
      "    datastore(settings.storage('f_cccftt_2-60000'))).extract_one)\n",
      "\n",
      "Xtrain_final = np.hstack((Xtrain_r_ft, Xtrain_c_ft, Xtrain_oh))\n",
      "Xtest_final = np.hstack((Xtest_r_ft, Xtest_c_ft, Xtest_oh))\n",
      "\n",
      "model = sklearn.svm.LinearSVC(C=1e-4)\n",
      "model.fit(Xtrain_final, ytrain)\n",
      "preds = model.predict(Xtest_final)\n",
      "\n",
      "print sklearn.metrics.accuracy_score(ytest, preds), utils.mean_accuracy(ytest, preds)"
     ],
     "language": "python",
     "metadata": {},
     "outputs": [
      {
       "output_type": "stream",
       "stream": "stdout",
       "text": [
        "0.784086986538 0.786089\n"
       ]
      }
     ],
     "prompt_number": 7
    },
    {
     "cell_type": "code",
     "collapsed": false,
     "input": [
      "Xtrain_oh, ytrain, Xtest_oh, ytest = cub.get_train_test(CNN_Features_CAFFE_REFERENCE(\n",
      "    datastore(settings.storage('ccpheadft-100000'))).extract_one)\n",
      "Xtrain_r_ft, ytrain, Xtest_r_ft, ytest = cub.get_train_test(CNN_Features_CAFFE_REFERENCE(\n",
      "    datastore(settings.storage('f_ccrftt_3-60000'))).extract_one)\n",
      "Xtrain_c_ft, ytrain, Xtest_c_ft, ytest = cub.get_train_test(CNN_Features_CAFFE_REFERENCE(\n",
      "    datastore(settings.storage('f_cccftt_3-60000'))).extract_one)\n",
      "\n",
      "Xtrain_final = np.hstack((Xtrain_r_ft, Xtrain_c_ft, Xtrain_oh))\n",
      "Xtest_final = np.hstack((Xtest_r_ft, Xtest_c_ft, Xtest_oh))\n",
      "\n",
      "model = sklearn.svm.LinearSVC(C=1e-4)\n",
      "model.fit(Xtrain_final, ytrain)\n",
      "preds = model.predict(Xtest_final)\n",
      "\n",
      "print sklearn.metrics.accuracy_score(ytest, preds), utils.mean_accuracy(ytest, preds)"
     ],
     "language": "python",
     "metadata": {},
     "outputs": [
      {
       "output_type": "stream",
       "stream": "stdout",
       "text": [
        "0.783914394201 0.785887\n"
       ]
      }
     ],
     "prompt_number": 8
    },
    {
     "cell_type": "heading",
     "level": 1,
     "metadata": {},
     "source": [
      "Finally Final"
     ]
    },
    {
     "cell_type": "heading",
     "level": 2,
     "metadata": {},
     "source": [
      "Complete(R_ft, C_RF_FT, P_H_RF_FT, P_B_RF_FT)"
     ]
    },
    {
     "cell_type": "heading",
     "level": 3,
     "metadata": {},
     "source": [
      "experiment 1"
     ]
    },
    {
     "cell_type": "code",
     "collapsed": false,
     "input": [
      "Xtrain_r_ft, ytrain, Xtest_r_ft, ytest = cub.get_train_test(CNN_Features_CAFFE_REFERENCE(\n",
      "    datastore(settings.storage('f_ccrftt_1-60000'))).extract_one)\n",
      "Xtrain_c_ft_rf, ytrain, Xtest_c_ft_rf, ytest = cub.get_train_test(CNN_Features_CAFFE_REFERENCE(\n",
      "    datastore(settings.storage('f_cccrf_def_1-60000'))).extract_one)\n",
      "Xtrain_h, ytrain, Xtest_h, ytest = cub.get_train_test(CNN_Features_CAFFE_REFERENCE(\n",
      "    datastore(settings.storage('f_ccphrf_def_unif_1-60000'))).extract_one)\n",
      "Xtrain_b, ytrain, Xtest_b, ytest = cub.get_train_test(CNN_Features_CAFFE_REFERENCE(\n",
      "    datastore(settings.storage('f_ccpbrf_def_unif_1-60000'))).extract_one)\n",
      "\n",
      "Xtrain_final = np.hstack((Xtrain_r_ft, Xtrain_c_ft_rf, Xtrain_h, Xtrain_b))\n",
      "Xtest_final = np.hstack((Xtest_r_ft, Xtest_c_ft_rf, Xtest_h, Xtest_b))\n",
      "\n",
      "model = sklearn.svm.LinearSVC(C=1e-4)\n",
      "model.fit(Xtrain_final, ytrain)\n",
      "preds = model.predict(Xtest_final)\n",
      "\n",
      "print sklearn.metrics.accuracy_score(ytest, preds), utils.mean_accuracy(ytest, preds)"
     ],
     "language": "python",
     "metadata": {},
     "outputs": [
      {
       "output_type": "stream",
       "stream": "stdout",
       "text": [
        "0.721263375906 0.723472\n"
       ]
      }
     ],
     "prompt_number": 12
    },
    {
     "cell_type": "code",
     "collapsed": false,
     "input": [
      "Xtrain_r_ft, ytrain, Xtest_r_ft, ytest = cub.get_train_test(CNN_Features_CAFFE_REFERENCE(\n",
      "    datastore(settings.storage('f_ccrftt_2-60000'))).extract_one)\n",
      "Xtrain_c_ft_rf, ytrain, Xtest_c_ft_rf, ytest = cub.get_train_test(CNN_Features_CAFFE_REFERENCE(\n",
      "    datastore(settings.storage('f_cccrf_def_1-60000'))).extract_one)\n",
      "Xtrain_h, ytrain, Xtest_h, ytest = cub.get_train_test(CNN_Features_CAFFE_REFERENCE(\n",
      "    datastore(settings.storage('f_ccphrf_def_unif_2-60000'))).extract_one)\n",
      "Xtrain_b, ytrain, Xtest_b, ytest = cub.get_train_test(CNN_Features_CAFFE_REFERENCE(\n",
      "    datastore(settings.storage('f_ccpbrf_def_unif_2-60000'))).extract_one)\n",
      "\n",
      "Xtrain_final = np.hstack((Xtrain_r_ft, Xtrain_c_ft_rf, Xtrain_h, Xtrain_b))\n",
      "Xtest_final = np.hstack((Xtest_r_ft, Xtest_c_ft_rf, Xtest_h, Xtest_b))\n",
      "\n",
      "model = sklearn.svm.LinearSVC(C=1e-4)\n",
      "model.fit(Xtrain_final, ytrain)\n",
      "preds = model.predict(Xtest_final)\n",
      "\n",
      "print sklearn.metrics.accuracy_score(ytest, preds), utils.mean_accuracy(ytest, preds)"
     ],
     "language": "python",
     "metadata": {},
     "outputs": [
      {
       "output_type": "stream",
       "stream": "stdout",
       "text": [
        "0.717811529168 0.720146\n"
       ]
      }
     ],
     "prompt_number": 14
    },
    {
     "cell_type": "code",
     "collapsed": false,
     "input": [
      "Xtrain_r_ft, ytrain, Xtest_r_ft, ytest = cub.get_train_test(CNN_Features_CAFFE_REFERENCE(\n",
      "    datastore(settings.storage('f_ccrftt_3-60000'))).extract_one)\n",
      "Xtrain_c_ft_rf, ytrain, Xtest_c_ft_rf, ytest = cub.get_train_test(CNN_Features_CAFFE_REFERENCE(\n",
      "    datastore(settings.storage('f_cccrf_def_1-60000'))).extract_one)\n",
      "Xtrain_h, ytrain, Xtest_h, ytest = cub.get_train_test(CNN_Features_CAFFE_REFERENCE(\n",
      "    datastore(settings.storage('f_ccphrf_def_unif_3-60000'))).extract_one)\n",
      "Xtrain_b, ytrain, Xtest_b, ytest = cub.get_train_test(CNN_Features_CAFFE_REFERENCE(\n",
      "    datastore(settings.storage('f_ccpbrf_def_unif_3-60000'))).extract_one)\n",
      "\n",
      "Xtrain_final = np.hstack((Xtrain_r_ft, Xtrain_c_ft_rf, Xtrain_h, Xtrain_b))\n",
      "Xtest_final = np.hstack((Xtest_r_ft, Xtest_c_ft_rf, Xtest_h, Xtest_b))\n",
      "\n",
      "model = sklearn.svm.LinearSVC(C=1e-4)\n",
      "model.fit(Xtrain_final, ytrain)\n",
      "preds = model.predict(Xtest_final)\n",
      "\n",
      "print sklearn.metrics.accuracy_score(ytest, preds), utils.mean_accuracy(ytest, preds)"
     ],
     "language": "python",
     "metadata": {},
     "outputs": [
      {
       "output_type": "stream",
       "stream": "stdout",
       "text": [
        "0.714532274767 0.716918\n"
       ]
      }
     ],
     "prompt_number": 15
    },
    {
     "cell_type": "heading",
     "level": 1,
     "metadata": {},
     "source": [
      "Which Part is the most important (in DeepRF)"
     ]
    },
    {
     "cell_type": "code",
     "collapsed": false,
     "input": [
      "Xtrain_r_ft, ytrain, Xtest_r_ft, ytest = cub.get_train_test(CNN_Features_CAFFE_REFERENCE(\n",
      "    datastore(settings.storage('f_ccrftt_1-60000'))).extract_one)\n",
      "Xtrain_c_ft, ytrain, Xtest_c_ft, ytest = cub.get_train_test(CNN_Features_CAFFE_REFERENCE(\n",
      "    datastore(settings.storage('f_cccftt_1-60000'))).extract_one)\n",
      "Xtrain_h, ytrain, Xtest_h, ytest = cub.get_train_test(CNN_Features_CAFFE_REFERENCE(\n",
      "    datastore(settings.storage('f_ccphrf_def_unif_1-60000'))).extract_one)\n",
      "Xtrain_b, ytrain, Xtest_b, ytest = cub.get_train_test(CNN_Features_CAFFE_REFERENCE(\n",
      "    datastore(settings.storage('f_ccpbrf_def_unif_1-60000'))).extract_one)"
     ],
     "language": "python",
     "metadata": {},
     "outputs": [],
     "prompt_number": 16
    },
    {
     "cell_type": "heading",
     "level": 2,
     "metadata": {},
     "source": [
      " - R"
     ]
    },
    {
     "cell_type": "code",
     "collapsed": false,
     "input": [
      "Xtrain_final = np.hstack((Xtrain_c_ft, Xtrain_h, Xtrain_b))\n",
      "Xtest_final = np.hstack((Xtest_c_ft, Xtest_h, Xtest_b))\n",
      "\n",
      "model = sklearn.svm.LinearSVC(C=1e-4)\n",
      "model.fit(Xtrain_final, ytrain)\n",
      "preds = model.predict(Xtest_final)\n",
      "\n",
      "print sklearn.metrics.accuracy_score(ytest, preds), utils.mean_accuracy(ytest, preds)"
     ],
     "language": "python",
     "metadata": {},
     "outputs": [
      {
       "output_type": "stream",
       "stream": "stdout",
       "text": [
        "0.731273731446 0.733825\n"
       ]
      }
     ],
     "prompt_number": 19
    },
    {
     "cell_type": "heading",
     "level": 2,
     "metadata": {},
     "source": [
      "- C"
     ]
    },
    {
     "cell_type": "code",
     "collapsed": false,
     "input": [
      "Xtrain_final = np.hstack((Xtrain_r_ft, Xtrain_h, Xtrain_b))\n",
      "Xtest_final = np.hstack((Xtest_r_ft, Xtest_h, Xtest_b))\n",
      "\n",
      "model = sklearn.svm.LinearSVC(C=1e-4)\n",
      "model.fit(Xtrain_final, ytrain)\n",
      "preds = model.predict(Xtest_final)\n",
      "\n",
      "print sklearn.metrics.accuracy_score(ytest, preds), utils.mean_accuracy(ytest, preds)"
     ],
     "language": "python",
     "metadata": {},
     "outputs": [
      {
       "output_type": "stream",
       "stream": "stdout",
       "text": [
        "0.711080428029 0.71366\n"
       ]
      }
     ],
     "prompt_number": 20
    },
    {
     "cell_type": "heading",
     "level": 2,
     "metadata": {},
     "source": [
      "- Head"
     ]
    },
    {
     "cell_type": "code",
     "collapsed": false,
     "input": [
      "Xtrain_final = np.hstack((Xtrain_r_ft, Xtrain_c_ft, Xtrain_b))\n",
      "Xtest_final = np.hstack((Xtest_r_ft, Xtest_c_ft, Xtest_b))\n",
      "\n",
      "model = sklearn.svm.LinearSVC(C=1e-4)\n",
      "model.fit(Xtrain_final, ytrain)\n",
      "preds = model.predict(Xtest_final)\n",
      "\n",
      "print sklearn.metrics.accuracy_score(ytest, preds), utils.mean_accuracy(ytest, preds)"
     ],
     "language": "python",
     "metadata": {},
     "outputs": [
      {
       "output_type": "stream",
       "stream": "stdout",
       "text": [
        "0.676907145323 0.679486\n"
       ]
      }
     ],
     "prompt_number": 21
    },
    {
     "cell_type": "heading",
     "level": 2,
     "metadata": {},
     "source": [
      "- Body"
     ]
    },
    {
     "cell_type": "code",
     "collapsed": false,
     "input": [
      "Xtrain_final = np.hstack((Xtrain_r_ft, Xtrain_c_ft, Xtrain_h))\n",
      "Xtest_final = np.hstack((Xtest_r_ft, Xtest_c_ft, Xtest_h))\n",
      "\n",
      "model = sklearn.svm.LinearSVC(C=1e-4)\n",
      "model.fit(Xtrain_final, ytrain)\n",
      "preds = model.predict(Xtest_final)\n",
      "\n",
      "print sklearn.metrics.accuracy_score(ytest, preds), utils.mean_accuracy(ytest, preds)"
     ],
     "language": "python",
     "metadata": {},
     "outputs": [
      {
       "output_type": "stream",
       "stream": "stdout",
       "text": [
        "0.730410769762 0.733428\n"
       ]
      }
     ],
     "prompt_number": 22
    },
    {
     "cell_type": "code",
     "collapsed": false,
     "input": [],
     "language": "python",
     "metadata": {},
     "outputs": []
    }
   ],
   "metadata": {}
  }
 ]
}